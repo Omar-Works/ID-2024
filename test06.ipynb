{
  "nbformat": 4,
  "nbformat_minor": 0,
  "metadata": {
    "colab": {
      "provenance": [],
      "gpuType": "T4",
      "include_colab_link": true
    },
    "kernelspec": {
      "name": "python3",
      "display_name": "Python 3"
    },
    "language_info": {
      "name": "python"
    },
    "accelerator": "GPU"
  },
  "cells": [
    {
      "cell_type": "markdown",
      "metadata": {
        "id": "view-in-github",
        "colab_type": "text"
      },
      "source": [
        "<a href=\"https://colab.research.google.com/github/Omar-Works/ID-2024/blob/main/test06.ipynb\" target=\"_parent\"><img src=\"https://colab.research.google.com/assets/colab-badge.svg\" alt=\"Open In Colab\"/></a>"
      ]
    },
    {
      "cell_type": "code",
      "execution_count": 2,
      "metadata": {
        "id": "Stv-mckzd7Gr"
      },
      "outputs": [],
      "source": [
        "!pip install -q tensorflow"
      ]
    },
    {
      "cell_type": "code",
      "source": [
        "from google.colab import drive\n",
        "drive.mount('/content/drive')"
      ],
      "metadata": {
        "id": "vF8U1PhUgPVI",
        "outputId": "2bb33f84-81c6-4757-ac13-c0c62b34927b",
        "colab": {
          "base_uri": "https://localhost:8080/"
        }
      },
      "execution_count": 3,
      "outputs": [
        {
          "output_type": "stream",
          "name": "stdout",
          "text": [
            "Mounted at /content/drive\n"
          ]
        }
      ]
    },
    {
      "cell_type": "code",
      "source": [
        "import tensorflow as tf\n",
        "from tensorflow.keras.preprocessing.image import ImageDataGenerator\n",
        "from tensorflow.keras.applications import VGG16\n",
        "from tensorflow.keras import layers, models\n",
        "from tensorflow.keras.optimizers import Adam\n",
        "import matplotlib.pyplot as plt"
      ],
      "metadata": {
        "id": "yhhczvmWw9p0"
      },
      "execution_count": 4,
      "outputs": []
    },
    {
      "cell_type": "code",
      "source": [
        "import os\n",
        "import shutil\n",
        "import random\n",
        "\n",
        "# Define paths\n",
        "train_dir = '/content/drive/MyDrive/Malaria/train'\n",
        "val_dir = '/content/drive/MyDrive/Malaria/val'\n",
        "test_dir = '/content/drive/MyDrive/Malaria/test'\n",
        "\n",
        "# Define the categories (subdirectories inside train and val)\n",
        "categories = ['Infected', 'Uninfected']\n",
        "\n",
        "# Set the proportion of data to move to validation (e.g., 20% for validation)\n",
        "validation_split = 0.2\n",
        "\n",
        "# Loop through each category\n",
        "for category in categories:\n",
        "    train_category_dir = os.path.join(train_dir, category)\n",
        "    val_category_dir = os.path.join(val_dir, category)\n",
        "\n",
        "    # Create validation category folder if it doesn't exist\n",
        "    if not os.path.exists(val_category_dir):\n",
        "        os.makedirs(val_category_dir)\n",
        "\n",
        "    # Get all files in the category folder\n",
        "    files = os.listdir(train_category_dir)\n",
        "\n",
        "    # Shuffle the files to ensure randomness\n",
        "    random.shuffle(files)\n",
        "\n",
        "    # Calculate how many files to move (based on validation split)\n",
        "    num_val_files = int(len(files) * validation_split)\n",
        "\n",
        "    # Move the files to the validation directory\n",
        "    for file in files[:num_val_files]:\n",
        "        shutil.move(os.path.join(train_category_dir, file), os.path.join(val_category_dir, file))\n",
        "\n",
        "print(\"Data split completed!\")\n"
      ],
      "metadata": {
        "id": "yp9qeWw531QH",
        "outputId": "8982cf04-8290-4b4f-d769-33da80c5b6af",
        "colab": {
          "base_uri": "https://localhost:8080/"
        }
      },
      "execution_count": 5,
      "outputs": [
        {
          "output_type": "stream",
          "name": "stdout",
          "text": [
            "Data split completed!\n"
          ]
        }
      ]
    },
    {
      "cell_type": "code",
      "source": [
        "train_datagen = ImageDataGenerator(rescale=1./255)  # Rescaling images\n",
        "val_datagen = ImageDataGenerator(rescale=1./255)  # Rescaling images for validation\n",
        "\n",
        "# Training dataset\n",
        "train_data = train_datagen.flow_from_directory(\n",
        "    '/content/drive/MyDrive/Malaria/train',  # Path to your training data\n",
        "    target_size=(224, 224),  # VGG16 expects 224x224 input size\n",
        "    batch_size=32,\n",
        "    class_mode='binary'  # Binary classification: malaria vs non-malaria\n",
        ")\n",
        "\n",
        "# Validation dataset\n",
        "val_data = val_datagen.flow_from_directory(\n",
        "    '/content/drive/MyDrive/Malaria/val',  # Path to your validation data\n",
        "    target_size=(224, 224),  # VGG16 expects 224x224 input size\n",
        "    batch_size=32,\n",
        "    class_mode='binary'  # Binary classification\n",
        ")\n"
      ],
      "metadata": {
        "id": "pQqkzFNmw_Sf",
        "outputId": "4fc385f3-5e10-4096-ec51-2aef61fd9fa8",
        "colab": {
          "base_uri": "https://localhost:8080/"
        }
      },
      "execution_count": 6,
      "outputs": [
        {
          "output_type": "stream",
          "name": "stdout",
          "text": [
            "Found 267 images belonging to 2 classes.\n",
            "Found 149 images belonging to 2 classes.\n"
          ]
        }
      ]
    },
    {
      "cell_type": "code",
      "source": [
        "# Load VGG16 pre-trained on ImageNet\n",
        "base_model = VGG16(weights='imagenet', include_top=False, input_shape=(224, 224, 3))\n",
        "\n",
        "# Freeze the convolutional layers of VGG16 (so their weights are not updated)\n",
        "base_model.trainable = False\n",
        "\n",
        "# Add custom layers on top\n",
        "model = models.Sequential([\n",
        "    base_model,  # Add VGG16 base model (without top layers)\n",
        "    layers.GlobalAveragePooling2D(),  # Pooling layer to reduce spatial dimensions\n",
        "    layers.Dense(128, activation='relu'),  # Fully connected layer with 128 neurons\n",
        "    layers.Dense(1, activation='sigmoid')  # Output layer (binary classification)\n",
        "])\n"
      ],
      "metadata": {
        "id": "QTsKQ73L9twu"
      },
      "execution_count": 10,
      "outputs": []
    },
    {
      "cell_type": "code",
      "source": [
        "from tensorflow.keras.optimizers import Adam\n",
        "\n",
        "# Compile the model\n",
        "model.compile(optimizer=Adam(learning_rate=0.0001),  # Set a learning rate (optional)\n",
        "              loss='binary_crossentropy',  # For binary classification\n",
        "              metrics=['accuracy'])\n",
        "\n",
        "# Train the model\n",
        "history = model.fit(\n",
        "    train_data,\n",
        "    steps_per_epoch=train_data.samples // train_data.batch_size,\n",
        "    epochs=10,  # You can adjust the number of epochs as needed\n",
        "    validation_data=val_data,\n",
        "    validation_steps=val_data.samples // val_data.batch_size\n",
        ")\n"
      ],
      "metadata": {
        "id": "lCS-NVFFz832",
        "outputId": "1c70994d-35f3-45cc-ac2e-33303732c38c",
        "colab": {
          "base_uri": "https://localhost:8080/"
        }
      },
      "execution_count": 11,
      "outputs": [
        {
          "output_type": "stream",
          "name": "stdout",
          "text": [
            "Epoch 1/10\n"
          ]
        },
        {
          "output_type": "stream",
          "name": "stderr",
          "text": [
            "/usr/local/lib/python3.10/dist-packages/keras/src/trainers/data_adapters/py_dataset_adapter.py:121: UserWarning: Your `PyDataset` class should call `super().__init__(**kwargs)` in its constructor. `**kwargs` can include `workers`, `use_multiprocessing`, `max_queue_size`. Do not pass these arguments to `fit()`, as they will be ignored.\n",
            "  self._warn_if_super_not_called()\n"
          ]
        },
        {
          "output_type": "stream",
          "name": "stdout",
          "text": [
            "\u001b[1m8/8\u001b[0m \u001b[32m━━━━━━━━━━━━━━━━━━━━\u001b[0m\u001b[37m\u001b[0m \u001b[1m127s\u001b[0m 8s/step - accuracy: 0.5133 - loss: 0.6963 - val_accuracy: 0.5312 - val_loss: 0.6889\n",
            "Epoch 2/10\n",
            "\u001b[1m1/8\u001b[0m \u001b[32m━━\u001b[0m\u001b[37m━━━━━━━━━━━━━━━━━━\u001b[0m \u001b[1m1s\u001b[0m 148ms/step - accuracy: 0.5625 - loss: 0.6860"
          ]
        },
        {
          "output_type": "stream",
          "name": "stderr",
          "text": [
            "/usr/lib/python3.10/contextlib.py:153: UserWarning: Your input ran out of data; interrupting training. Make sure that your dataset or generator can generate at least `steps_per_epoch * epochs` batches. You may need to use the `.repeat()` function when building your dataset.\n",
            "  self.gen.throw(typ, value, traceback)\n"
          ]
        },
        {
          "output_type": "stream",
          "name": "stdout",
          "text": [
            "\b\b\b\b\b\b\b\b\b\b\b\b\b\b\b\b\b\b\b\b\b\b\b\b\b\b\b\b\b\b\b\b\b\b\b\b\b\b\b\b\b\b\b\b\b\b\b\b\b\b\b\b\b\b\b\b\b\b\b\b\b\b\b\b\b\b\b\b\b\b\b\b\r\u001b[1m8/8\u001b[0m \u001b[32m━━━━━━━━━━━━━━━━━━━━\u001b[0m\u001b[37m\u001b[0m \u001b[1m58s\u001b[0m 8s/step - accuracy: 0.5625 - loss: 0.6860 - val_accuracy: 0.5238 - val_loss: 0.6795\n",
            "Epoch 3/10\n",
            "\u001b[1m8/8\u001b[0m \u001b[32m━━━━━━━━━━━━━━━━━━━━\u001b[0m\u001b[37m\u001b[0m \u001b[1m20s\u001b[0m 218ms/step - accuracy: 0.5146 - loss: 0.6900 - val_accuracy: 0.5781 - val_loss: 0.6860\n",
            "Epoch 4/10\n",
            "\u001b[1m8/8\u001b[0m \u001b[32m━━━━━━━━━━━━━━━━━━━━\u001b[0m\u001b[37m\u001b[0m \u001b[1m0s\u001b[0m 16ms/step - accuracy: 0.7500 - loss: 0.6755 - val_accuracy: 0.7619 - val_loss: 0.6676\n",
            "Epoch 5/10\n",
            "\u001b[1m8/8\u001b[0m \u001b[32m━━━━━━━━━━━━━━━━━━━━\u001b[0m\u001b[37m\u001b[0m \u001b[1m3s\u001b[0m 217ms/step - accuracy: 0.5579 - loss: 0.6842 - val_accuracy: 0.6484 - val_loss: 0.6802\n",
            "Epoch 6/10\n",
            "\u001b[1m8/8\u001b[0m \u001b[32m━━━━━━━━━━━━━━━━━━━━\u001b[0m\u001b[37m\u001b[0m \u001b[1m1s\u001b[0m 65ms/step - accuracy: 0.6875 - loss: 0.6749 - val_accuracy: 0.6190 - val_loss: 0.6755\n",
            "Epoch 7/10\n",
            "\u001b[1m8/8\u001b[0m \u001b[32m━━━━━━━━━━━━━━━━━━━━\u001b[0m\u001b[37m\u001b[0m \u001b[1m3s\u001b[0m 217ms/step - accuracy: 0.5555 - loss: 0.6809 - val_accuracy: 0.5859 - val_loss: 0.6756\n",
            "Epoch 8/10\n",
            "\u001b[1m8/8\u001b[0m \u001b[32m━━━━━━━━━━━━━━━━━━━━\u001b[0m\u001b[37m\u001b[0m \u001b[1m0s\u001b[0m 16ms/step - accuracy: 0.6875 - loss: 0.6663 - val_accuracy: 0.5714 - val_loss: 0.6792\n",
            "Epoch 9/10\n",
            "\u001b[1m8/8\u001b[0m \u001b[32m━━━━━━━━━━━━━━━━━━━━\u001b[0m\u001b[37m\u001b[0m \u001b[1m3s\u001b[0m 246ms/step - accuracy: 0.5427 - loss: 0.6799 - val_accuracy: 0.5312 - val_loss: 0.6734\n",
            "Epoch 10/10\n",
            "\u001b[1m8/8\u001b[0m \u001b[32m━━━━━━━━━━━━━━━━━━━━\u001b[0m\u001b[37m\u001b[0m \u001b[1m0s\u001b[0m 47ms/step - accuracy: 0.5312 - loss: 0.6755 - val_accuracy: 0.5238 - val_loss: 0.6731\n"
          ]
        }
      ]
    },
    {
      "cell_type": "code",
      "source": [
        "import matplotlib.pyplot as plt\n",
        "\n",
        "# Plot the training and validation accuracy\n",
        "plt.plot(history.history['accuracy'], label='Training Accuracy')\n",
        "plt.plot(history.history['val_accuracy'], label='Validation Accuracy')\n",
        "plt.title('Training vs Validation Accuracy')\n",
        "plt.xlabel('Epochs')\n",
        "plt.ylabel('Accuracy')\n",
        "plt.legend()\n",
        "plt.show()\n"
      ],
      "metadata": {
        "id": "15xrOUUk0_74",
        "outputId": "6928182d-e56b-4baf-cd8a-8eb309b32f5b",
        "colab": {
          "base_uri": "https://localhost:8080/",
          "height": 472
        }
      },
      "execution_count": 12,
      "outputs": [
        {
          "output_type": "display_data",
          "data": {
            "text/plain": [
              "<Figure size 640x480 with 1 Axes>"
            ],
            "image/png": "[encoded data removed]"
          },
          "metadata": {}
        }
      ]
    },
    {
      "cell_type": "code",
      "source": [
        "# Evaluate the model on the validation data\n",
        "val_loss, val_acc = model.evaluate(val_data)\n",
        "print(f\"Validation Loss: {val_loss}\")\n",
        "print(f\"Validation Accuracy: {val_acc}\")\n"
      ],
      "metadata": {
        "id": "cFAaeSCx1OgH",
        "outputId": "69b95543-99ee-46ca-f4c5-95ee89d7a1aa",
        "colab": {
          "base_uri": "https://localhost:8080/"
        }
      },
      "execution_count": 13,
      "outputs": [
        {
          "output_type": "stream",
          "name": "stdout",
          "text": [
            "\u001b[1m5/5\u001b[0m \u001b[32m━━━━━━━━━━━━━━━━━━━━\u001b[0m\u001b[37m\u001b[0m \u001b[1m1s\u001b[0m 142ms/step - accuracy: 0.5235 - loss: 0.6751\n",
            "Validation Loss: 0.6731002926826477\n",
            "Validation Accuracy: 0.5302013158798218\n"
          ]
        }
      ]
    },
    {
      "cell_type": "code",
      "source": [
        "model.summary()"
      ],
      "metadata": {
        "id": "pnuR5CSi8vK2",
        "outputId": "99875107-169a-4b45-ac2f-6df5d81ae437",
        "colab": {
          "base_uri": "https://localhost:8080/",
          "height": 306
        }
      },
      "execution_count": 14,
      "outputs": [
        {
          "output_type": "display_data",
          "data": {
            "text/plain": [
              "\u001b[1mModel: \"sequential_1\"\u001b[0m\n"
            ],
            "text/html": [
              "<pre style=\"white-space:pre;overflow-x:auto;line-height:normal;font-family:Menlo,'DejaVu Sans Mono',consolas,'Courier New',monospace\"><span style=\"font-weight: bold\">Model: \"sequential_1\"</span>\n",
              "</pre>\n"
            ]
          },
          "metadata": {}
        },
        {
          "output_type": "display_data",
          "data": {
            "text/plain": [
              "┏━━━━━━━━━━━━━━━━━━━━━━━━━━━━━━━━━━━━━━┳━━━━━━━━━━━━━━━━━━━━━━━━━━━━━┳━━━━━━━━━━━━━━━━━┓\n",
              "┃\u001b[1m \u001b[0m\u001b[1mLayer (type)                        \u001b[0m\u001b[1m \u001b[0m┃\u001b[1m \u001b[0m\u001b[1mOutput Shape               \u001b[0m\u001b[1m \u001b[0m┃\u001b[1m \u001b[0m\u001b[1m        Param #\u001b[0m\u001b[1m \u001b[0m┃\n",
              "┡━━━━━━━━━━━━━━━━━━━━━━━━━━━━━━━━━━━━━━╇━━━━━━━━━━━━━━━━━━━━━━━━━━━━━╇━━━━━━━━━━━━━━━━━┩\n",
              "│ vgg16 (\u001b[38;5;33mFunctional\u001b[0m)                   │ (\u001b[38;5;45mNone\u001b[0m, \u001b[38;5;34m7\u001b[0m, \u001b[38;5;34m7\u001b[0m, \u001b[38;5;34m512\u001b[0m)           │      \u001b[38;5;34m14,714,688\u001b[0m │\n",
              "├──────────────────────────────────────┼─────────────────────────────┼─────────────────┤\n",
              "│ global_average_pooling2d_1           │ (\u001b[38;5;45mNone\u001b[0m, \u001b[38;5;34m512\u001b[0m)                 │               \u001b[38;5;34m0\u001b[0m │\n",
              "│ (\u001b[38;5;33mGlobalAveragePooling2D\u001b[0m)             │                             │                 │\n",
              "├──────────────────────────────────────┼─────────────────────────────┼─────────────────┤\n",
              "│ dense_2 (\u001b[38;5;33mDense\u001b[0m)                      │ (\u001b[38;5;45mNone\u001b[0m, \u001b[38;5;34m128\u001b[0m)                 │          \u001b[38;5;34m65,664\u001b[0m │\n",
              "├──────────────────────────────────────┼─────────────────────────────┼─────────────────┤\n",
              "│ dense_3 (\u001b[38;5;33mDense\u001b[0m)                      │ (\u001b[38;5;45mNone\u001b[0m, \u001b[38;5;34m1\u001b[0m)                   │             \u001b[38;5;34m129\u001b[0m │\n",
              "└──────────────────────────────────────┴─────────────────────────────┴─────────────────┘\n"
            ],
            "text/html": [
              "<pre style=\"white-space:pre;overflow-x:auto;line-height:normal;font-family:Menlo,'DejaVu Sans Mono',consolas,'Courier New',monospace\">┏━━━━━━━━━━━━━━━━━━━━━━━━━━━━━━━━━━━━━━┳━━━━━━━━━━━━━━━━━━━━━━━━━━━━━┳━━━━━━━━━━━━━━━━━┓\n",
              "┃<span style=\"font-weight: bold\"> Layer (type)                         </span>┃<span style=\"font-weight: bold\"> Output Shape                </span>┃<span style=\"font-weight: bold\">         Param # </span>┃\n",
              "┡━━━━━━━━━━━━━━━━━━━━━━━━━━━━━━━━━━━━━━╇━━━━━━━━━━━━━━━━━━━━━━━━━━━━━╇━━━━━━━━━━━━━━━━━┩\n",
              "│ vgg16 (<span style=\"color: #0087ff; text-decoration-color: #0087ff\">Functional</span>)                   │ (<span style=\"color: #00d7ff; text-decoration-color: #00d7ff\">None</span>, <span style=\"color: #00af00; text-decoration-color: #00af00\">7</span>, <span style=\"color: #00af00; text-decoration-color: #00af00\">7</span>, <span style=\"color: #00af00; text-decoration-color: #00af00\">512</span>)           │      <span style=\"color: #00af00; text-decoration-color: #00af00\">14,714,688</span> │\n",
              "├──────────────────────────────────────┼─────────────────────────────┼─────────────────┤\n",
              "│ global_average_pooling2d_1           │ (<span style=\"color: #00d7ff; text-decoration-color: #00d7ff\">None</span>, <span style=\"color: #00af00; text-decoration-color: #00af00\">512</span>)                 │               <span style=\"color: #00af00; text-decoration-color: #00af00\">0</span> │\n",
              "│ (<span style=\"color: #0087ff; text-decoration-color: #0087ff\">GlobalAveragePooling2D</span>)             │                             │                 │\n",
              "├──────────────────────────────────────┼─────────────────────────────┼─────────────────┤\n",
              "│ dense_2 (<span style=\"color: #0087ff; text-decoration-color: #0087ff\">Dense</span>)                      │ (<span style=\"color: #00d7ff; text-decoration-color: #00d7ff\">None</span>, <span style=\"color: #00af00; text-decoration-color: #00af00\">128</span>)                 │          <span style=\"color: #00af00; text-decoration-color: #00af00\">65,664</span> │\n",
              "├──────────────────────────────────────┼─────────────────────────────┼─────────────────┤\n",
              "│ dense_3 (<span style=\"color: #0087ff; text-decoration-color: #0087ff\">Dense</span>)                      │ (<span style=\"color: #00d7ff; text-decoration-color: #00d7ff\">None</span>, <span style=\"color: #00af00; text-decoration-color: #00af00\">1</span>)                   │             <span style=\"color: #00af00; text-decoration-color: #00af00\">129</span> │\n",
              "└──────────────────────────────────────┴─────────────────────────────┴─────────────────┘\n",
              "</pre>\n"
            ]
          },
          "metadata": {}
        },
        {
          "output_type": "display_data",
          "data": {
            "text/plain": [
              "\u001b[1m Total params: \u001b[0m\u001b[38;5;34m14,912,069\u001b[0m (56.89 MB)\n"
            ],
            "text/html": [
              "<pre style=\"white-space:pre;overflow-x:auto;line-height:normal;font-family:Menlo,'DejaVu Sans Mono',consolas,'Courier New',monospace\"><span style=\"font-weight: bold\"> Total params: </span><span style=\"color: #00af00; text-decoration-color: #00af00\">14,912,069</span> (56.89 MB)\n",
              "</pre>\n"
            ]
          },
          "metadata": {}
        },
        {
          "output_type": "display_data",
          "data": {
            "text/plain": [
              "\u001b[1m Trainable params: \u001b[0m\u001b[38;5;34m65,793\u001b[0m (257.00 KB)\n"
            ],
            "text/html": [
              "<pre style=\"white-space:pre;overflow-x:auto;line-height:normal;font-family:Menlo,'DejaVu Sans Mono',consolas,'Courier New',monospace\"><span style=\"font-weight: bold\"> Trainable params: </span><span style=\"color: #00af00; text-decoration-color: #00af00\">65,793</span> (257.00 KB)\n",
              "</pre>\n"
            ]
          },
          "metadata": {}
        },
        {
          "output_type": "display_data",
          "data": {
            "text/plain": [
              "\u001b[1m Non-trainable params: \u001b[0m\u001b[38;5;34m14,714,688\u001b[0m (56.13 MB)\n"
            ],
            "text/html": [
              "<pre style=\"white-space:pre;overflow-x:auto;line-height:normal;font-family:Menlo,'DejaVu Sans Mono',consolas,'Courier New',monospace\"><span style=\"font-weight: bold\"> Non-trainable params: </span><span style=\"color: #00af00; text-decoration-color: #00af00\">14,714,688</span> (56.13 MB)\n",
              "</pre>\n"
            ]
          },
          "metadata": {}
        },
        {
          "output_type": "display_data",
          "data": {
            "text/plain": [
              "\u001b[1m Optimizer params: \u001b[0m\u001b[38;5;34m131,588\u001b[0m (514.02 KB)\n"
            ],
            "text/html": [
              "<pre style=\"white-space:pre;overflow-x:auto;line-height:normal;font-family:Menlo,'DejaVu Sans Mono',consolas,'Courier New',monospace\"><span style=\"font-weight: bold\"> Optimizer params: </span><span style=\"color: #00af00; text-decoration-color: #00af00\">131,588</span> (514.02 KB)\n",
              "</pre>\n"
            ]
          },
          "metadata": {}
        }
      ]
    },
    {
      "cell_type": "code",
      "source": [
        "from tensorflow.keras.preprocessing import image\n",
        "from tensorflow.keras.preprocessing.image import ImageDataGenerator\n",
        "import numpy as np\n",
        "\n",
        "# Set the path to your test data\n",
        "test_dir = '/content/drive/MyDrive/Malaria/test'\n",
        "\n",
        "# Create ImageDataGenerator instance for the test data (no augmentation needed)\n",
        "test_datagen = ImageDataGenerator(rescale=1./255)\n",
        "\n",
        "# Set up the test generator\n",
        "test_generator = test_datagen.flow_from_directory(\n",
        "    test_dir,\n",
        "    target_size=(224, 224),  # Resize images to 224x224\n",
        "    batch_size=32,           # You can change batch size depending on memory\n",
        "    class_mode='binary',     # Use 'binary' since you have 2 classes (Infected/Uninfected)\n",
        "    shuffle=False            # Don't shuffle for evaluation (so predictions match filenames)\n",
        ")\n",
        "\n",
        "# Evaluate the model on the test data\n",
        "loss, accuracy = model.evaluate(test_generator)\n",
        "print(f\"Test accuracy: {accuracy * 100:.2f}%\")\n",
        "\n",
        "# If you want to predict individual images, you can loop through the test set\n",
        "# Example for predicting a batch of images\n",
        "predictions = model.predict(test_generator)\n",
        "\n",
        "# Display predictions for the first batch of images\n",
        "for i, prediction in enumerate(predictions):\n",
        "    print(f\"Image {i+1} prediction: {'Infected' if prediction[0] > 0.5 else 'Uninfected'} (Confidence: {prediction[0]:.2f})\")\n"
      ],
      "metadata": {
        "id": "56Vrusf04r2L",
        "outputId": "2eed6b70-b81d-429e-9a9a-287af8f72d52",
        "colab": {
          "base_uri": "https://localhost:8080/"
        }
      },
      "execution_count": 15,
      "outputs": [
        {
          "output_type": "stream",
          "name": "stdout",
          "text": [
            "Found 134 images belonging to 2 classes.\n",
            "\u001b[1m5/5\u001b[0m \u001b[32m━━━━━━━━━━━━━━━━━━━━\u001b[0m\u001b[37m\u001b[0m \u001b[1m28s\u001b[0m 7s/step - accuracy: 0.8362 - loss: 0.6289\n",
            "Test accuracy: 67.91%\n",
            "\u001b[1m5/5\u001b[0m \u001b[32m━━━━━━━━━━━━━━━━━━━━\u001b[0m\u001b[37m\u001b[0m \u001b[1m2s\u001b[0m 220ms/step\n",
            "Image 1 prediction: Uninfected (Confidence: 0.46)\n",
            "Image 2 prediction: Uninfected (Confidence: 0.48)\n",
            "Image 3 prediction: Uninfected (Confidence: 0.44)\n",
            "Image 4 prediction: Uninfected (Confidence: 0.44)\n",
            "Image 5 prediction: Uninfected (Confidence: 0.45)\n",
            "Image 6 prediction: Uninfected (Confidence: 0.46)\n",
            "Image 7 prediction: Uninfected (Confidence: 0.45)\n",
            "Image 8 prediction: Uninfected (Confidence: 0.45)\n",
            "Image 9 prediction: Uninfected (Confidence: 0.45)\n",
            "Image 10 prediction: Uninfected (Confidence: 0.47)\n",
            "Image 11 prediction: Uninfected (Confidence: 0.45)\n",
            "Image 12 prediction: Uninfected (Confidence: 0.43)\n",
            "Image 13 prediction: Uninfected (Confidence: 0.47)\n",
            "Image 14 prediction: Uninfected (Confidence: 0.46)\n",
            "Image 15 prediction: Uninfected (Confidence: 0.43)\n",
            "Image 16 prediction: Uninfected (Confidence: 0.47)\n",
            "Image 17 prediction: Uninfected (Confidence: 0.46)\n",
            "Image 18 prediction: Uninfected (Confidence: 0.47)\n",
            "Image 19 prediction: Uninfected (Confidence: 0.46)\n",
            "Image 20 prediction: Uninfected (Confidence: 0.44)\n",
            "Image 21 prediction: Uninfected (Confidence: 0.47)\n",
            "Image 22 prediction: Uninfected (Confidence: 0.46)\n",
            "Image 23 prediction: Uninfected (Confidence: 0.46)\n",
            "Image 24 prediction: Uninfected (Confidence: 0.46)\n",
            "Image 25 prediction: Uninfected (Confidence: 0.44)\n",
            "Image 26 prediction: Uninfected (Confidence: 0.46)\n",
            "Image 27 prediction: Uninfected (Confidence: 0.45)\n",
            "Image 28 prediction: Uninfected (Confidence: 0.45)\n",
            "Image 29 prediction: Uninfected (Confidence: 0.44)\n",
            "Image 30 prediction: Uninfected (Confidence: 0.46)\n",
            "Image 31 prediction: Uninfected (Confidence: 0.47)\n",
            "Image 32 prediction: Uninfected (Confidence: 0.46)\n",
            "Image 33 prediction: Uninfected (Confidence: 0.45)\n",
            "Image 34 prediction: Uninfected (Confidence: 0.45)\n",
            "Image 35 prediction: Uninfected (Confidence: 0.44)\n",
            "Image 36 prediction: Uninfected (Confidence: 0.48)\n",
            "Image 37 prediction: Uninfected (Confidence: 0.44)\n",
            "Image 38 prediction: Uninfected (Confidence: 0.47)\n",
            "Image 39 prediction: Uninfected (Confidence: 0.48)\n",
            "Image 40 prediction: Uninfected (Confidence: 0.46)\n",
            "Image 41 prediction: Uninfected (Confidence: 0.46)\n",
            "Image 42 prediction: Uninfected (Confidence: 0.46)\n",
            "Image 43 prediction: Uninfected (Confidence: 0.45)\n",
            "Image 44 prediction: Uninfected (Confidence: 0.44)\n",
            "Image 45 prediction: Uninfected (Confidence: 0.46)\n",
            "Image 46 prediction: Uninfected (Confidence: 0.45)\n",
            "Image 47 prediction: Uninfected (Confidence: 0.46)\n",
            "Image 48 prediction: Uninfected (Confidence: 0.48)\n",
            "Image 49 prediction: Uninfected (Confidence: 0.44)\n",
            "Image 50 prediction: Uninfected (Confidence: 0.45)\n",
            "Image 51 prediction: Uninfected (Confidence: 0.46)\n",
            "Image 52 prediction: Uninfected (Confidence: 0.44)\n",
            "Image 53 prediction: Uninfected (Confidence: 0.47)\n",
            "Image 54 prediction: Uninfected (Confidence: 0.46)\n",
            "Image 55 prediction: Uninfected (Confidence: 0.46)\n",
            "Image 56 prediction: Uninfected (Confidence: 0.46)\n",
            "Image 57 prediction: Uninfected (Confidence: 0.46)\n",
            "Image 58 prediction: Uninfected (Confidence: 0.45)\n",
            "Image 59 prediction: Uninfected (Confidence: 0.43)\n",
            "Image 60 prediction: Uninfected (Confidence: 0.45)\n",
            "Image 61 prediction: Uninfected (Confidence: 0.42)\n",
            "Image 62 prediction: Uninfected (Confidence: 0.47)\n",
            "Image 63 prediction: Uninfected (Confidence: 0.45)\n",
            "Image 64 prediction: Uninfected (Confidence: 0.45)\n",
            "Image 65 prediction: Uninfected (Confidence: 0.45)\n",
            "Image 66 prediction: Uninfected (Confidence: 0.45)\n",
            "Image 67 prediction: Uninfected (Confidence: 0.47)\n",
            "Image 68 prediction: Uninfected (Confidence: 0.43)\n",
            "Image 69 prediction: Uninfected (Confidence: 0.46)\n",
            "Image 70 prediction: Uninfected (Confidence: 0.44)\n",
            "Image 71 prediction: Uninfected (Confidence: 0.47)\n",
            "Image 72 prediction: Uninfected (Confidence: 0.47)\n",
            "Image 73 prediction: Uninfected (Confidence: 0.46)\n",
            "Image 74 prediction: Uninfected (Confidence: 0.48)\n",
            "Image 75 prediction: Uninfected (Confidence: 0.44)\n",
            "Image 76 prediction: Uninfected (Confidence: 0.47)\n",
            "Image 77 prediction: Uninfected (Confidence: 0.48)\n",
            "Image 78 prediction: Uninfected (Confidence: 0.47)\n",
            "Image 79 prediction: Uninfected (Confidence: 0.45)\n",
            "Image 80 prediction: Uninfected (Confidence: 0.46)\n",
            "Image 81 prediction: Uninfected (Confidence: 0.46)\n",
            "Image 82 prediction: Uninfected (Confidence: 0.47)\n",
            "Image 83 prediction: Uninfected (Confidence: 0.45)\n",
            "Image 84 prediction: Uninfected (Confidence: 0.45)\n",
            "Image 85 prediction: Uninfected (Confidence: 0.46)\n",
            "Image 86 prediction: Uninfected (Confidence: 0.43)\n",
            "Image 87 prediction: Uninfected (Confidence: 0.45)\n",
            "Image 88 prediction: Uninfected (Confidence: 0.44)\n",
            "Image 89 prediction: Uninfected (Confidence: 0.48)\n",
            "Image 90 prediction: Uninfected (Confidence: 0.47)\n",
            "Image 91 prediction: Uninfected (Confidence: 0.45)\n",
            "Image 92 prediction: Uninfected (Confidence: 0.47)\n",
            "Image 93 prediction: Uninfected (Confidence: 0.46)\n",
            "Image 94 prediction: Uninfected (Confidence: 0.49)\n",
            "Image 95 prediction: Uninfected (Confidence: 0.50)\n",
            "Image 96 prediction: Uninfected (Confidence: 0.48)\n",
            "Image 97 prediction: Uninfected (Confidence: 0.48)\n",
            "Image 98 prediction: Uninfected (Confidence: 0.47)\n",
            "Image 99 prediction: Uninfected (Confidence: 0.48)\n",
            "Image 100 prediction: Uninfected (Confidence: 0.47)\n",
            "Image 101 prediction: Uninfected (Confidence: 0.47)\n",
            "Image 102 prediction: Uninfected (Confidence: 0.49)\n",
            "Image 103 prediction: Uninfected (Confidence: 0.47)\n",
            "Image 104 prediction: Uninfected (Confidence: 0.47)\n",
            "Image 105 prediction: Uninfected (Confidence: 0.46)\n",
            "Image 106 prediction: Uninfected (Confidence: 0.48)\n",
            "Image 107 prediction: Uninfected (Confidence: 0.48)\n",
            "Image 108 prediction: Uninfected (Confidence: 0.49)\n",
            "Image 109 prediction: Uninfected (Confidence: 0.48)\n",
            "Image 110 prediction: Uninfected (Confidence: 0.46)\n",
            "Image 111 prediction: Uninfected (Confidence: 0.49)\n",
            "Image 112 prediction: Uninfected (Confidence: 0.49)\n",
            "Image 113 prediction: Uninfected (Confidence: 0.49)\n",
            "Image 114 prediction: Uninfected (Confidence: 0.49)\n",
            "Image 115 prediction: Uninfected (Confidence: 0.48)\n",
            "Image 116 prediction: Uninfected (Confidence: 0.49)\n",
            "Image 117 prediction: Uninfected (Confidence: 0.48)\n",
            "Image 118 prediction: Uninfected (Confidence: 0.49)\n",
            "Image 119 prediction: Uninfected (Confidence: 0.48)\n",
            "Image 120 prediction: Uninfected (Confidence: 0.47)\n",
            "Image 121 prediction: Uninfected (Confidence: 0.49)\n",
            "Image 122 prediction: Uninfected (Confidence: 0.49)\n",
            "Image 123 prediction: Uninfected (Confidence: 0.48)\n",
            "Image 124 prediction: Uninfected (Confidence: 0.47)\n",
            "Image 125 prediction: Uninfected (Confidence: 0.48)\n",
            "Image 126 prediction: Uninfected (Confidence: 0.47)\n",
            "Image 127 prediction: Uninfected (Confidence: 0.50)\n",
            "Image 128 prediction: Uninfected (Confidence: 0.48)\n",
            "Image 129 prediction: Uninfected (Confidence: 0.47)\n",
            "Image 130 prediction: Uninfected (Confidence: 0.48)\n",
            "Image 131 prediction: Uninfected (Confidence: 0.49)\n",
            "Image 132 prediction: Uninfected (Confidence: 0.49)\n",
            "Image 133 prediction: Uninfected (Confidence: 0.49)\n",
            "Image 134 prediction: Uninfected (Confidence: 0.47)\n"
          ]
        }
      ]
    }
  ]
}