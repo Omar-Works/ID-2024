{
  "nbformat": 4,
  "nbformat_minor": 0,
  "metadata": {
    "colab": {
      "provenance": [],
      "gpuType": "T4",
      "include_colab_link": true
    },
    "kernelspec": {
      "name": "python3",
      "display_name": "Python 3"
    },
    "language_info": {
      "name": "python"
    },
    "accelerator": "GPU"
  },
  "cells": [
    {
      "cell_type": "markdown",
      "metadata": {
        "id": "view-in-github",
        "colab_type": "text"
      },
      "source": [
        "<a href=\"https://colab.research.google.com/github/Omar-Works/ID-2024/blob/main/test06.ipynb\" target=\"_parent\"><img src=\"https://colab.research.google.com/assets/colab-badge.svg\" alt=\"Open In Colab\"/></a>"
      ]
    },
    {
      "cell_type": "code",
      "execution_count": 19,
      "metadata": {
        "id": "Stv-mckzd7Gr"
      },
      "outputs": [],
      "source": [
        "!pip install -q tensorflow"
      ]
    },
    {
      "cell_type": "code",
      "source": [
        "from google.colab import drive\n",
        "drive.mount('/content/drive')"
      ],
      "metadata": {
        "id": "vF8U1PhUgPVI",
        "outputId": "4a6f8667-3ad6-4531-ab0b-1feb2c74558f",
        "colab": {
          "base_uri": "https://localhost:8080/"
        }
      },
      "execution_count": 1,
      "outputs": [
        {
          "output_type": "stream",
          "name": "stdout",
          "text": [
            "Mounted at /content/drive\n"
          ]
        }
      ]
    },
    {
      "cell_type": "code",
      "source": [
        "import tensorflow as tf\n",
        "from tensorflow.keras.preprocessing.image import ImageDataGenerator\n",
        "from tensorflow.keras.applications import VGG16\n",
        "from tensorflow.keras import layers, models\n",
        "from tensorflow.keras.optimizers import Adam\n",
        "import matplotlib.pyplot as plt"
      ],
      "metadata": {
        "id": "yhhczvmWw9p0"
      },
      "execution_count": 20,
      "outputs": []
    },
    {
      "cell_type": "code",
      "source": [
        "import os\n",
        "import shutil\n",
        "import random\n",
        "\n",
        "# Define paths\n",
        "train_dir = '/content/drive/MyDrive/Malaria/train'\n",
        "val_dir = '/content/drive/MyDrive/Malaria/val'\n",
        "test_dir = '/content/drive/MyDrive/Malaria/test'\n",
        "\n",
        "# Define the categories (subdirectories inside train and val)\n",
        "categories = ['Infected', 'Uninfected']\n",
        "\n",
        "# Set the proportion of data to move to validation (e.g., 20% for validation)\n",
        "validation_split = 0.2\n",
        "\n",
        "# Loop through each category\n",
        "for category in categories:\n",
        "    train_category_dir = os.path.join(train_dir, category)\n",
        "    val_category_dir = os.path.join(val_dir, category)\n",
        "\n",
        "    # Create validation category folder if it doesn't exist\n",
        "    if not os.path.exists(val_category_dir):\n",
        "        os.makedirs(val_category_dir)\n",
        "\n",
        "    # Get all files in the category folder\n",
        "    files = os.listdir(train_category_dir)\n",
        "\n",
        "    # Shuffle the files to ensure randomness\n",
        "    random.shuffle(files)\n",
        "\n",
        "    # Calculate how many files to move (based on validation split)\n",
        "    num_val_files = int(len(files) * validation_split)\n",
        "\n",
        "    # Move the files to the validation directory\n",
        "    for file in files[:num_val_files]:\n",
        "        shutil.move(os.path.join(train_category_dir, file), os.path.join(val_category_dir, file))\n",
        "\n",
        "print(\"Data split completed!\")\n"
      ],
      "metadata": {
        "id": "yp9qeWw531QH",
        "outputId": "541f0258-606e-4a46-944b-c3280dcd5f1f",
        "colab": {
          "base_uri": "https://localhost:8080/"
        }
      },
      "execution_count": 26,
      "outputs": [
        {
          "output_type": "stream",
          "name": "stdout",
          "text": [
            "Data split completed!\n"
          ]
        }
      ]
    },
    {
      "cell_type": "code",
      "source": [
        "train_datagen = ImageDataGenerator(rescale=1./255)  # Rescaling images\n",
        "val_datagen = ImageDataGenerator(rescale=1./255)  # Rescaling images for validation\n",
        "\n",
        "# Training dataset\n",
        "train_data = train_datagen.flow_from_directory(\n",
        "    '/content/drive/MyDrive/Malaria/train',  # Path to your training data\n",
        "    target_size=(224, 224),  # VGG16 expects 224x224 input size\n",
        "    batch_size=32,\n",
        "    class_mode='binary'  # Binary classification: malaria vs non-malaria\n",
        ")\n",
        "\n",
        "# Validation dataset\n",
        "val_data = val_datagen.flow_from_directory(\n",
        "    '/content/drive/MyDrive/Malaria/val',  # Path to your validation data\n",
        "    target_size=(224, 224),  # VGG16 expects 224x224 input size\n",
        "    batch_size=32,\n",
        "    class_mode='binary'  # Binary classification\n",
        ")\n"
      ],
      "metadata": {
        "id": "pQqkzFNmw_Sf",
        "outputId": "8aa5a2cc-948e-4ce9-868b-066f9d5c9e7e",
        "colab": {
          "base_uri": "https://localhost:8080/"
        }
      },
      "execution_count": 27,
      "outputs": [
        {
          "output_type": "stream",
          "name": "stdout",
          "text": [
            "Found 333 images belonging to 2 classes.\n",
            "Found 83 images belonging to 2 classes.\n"
          ]
        }
      ]
    },
    {
      "cell_type": "code",
      "source": [
        "from tensorflow.keras.optimizers import Adam\n",
        "\n",
        "# Compile the model\n",
        "model.compile(optimizer=Adam(learning_rate=0.0001),  # Set a learning rate (optional)\n",
        "              loss='binary_crossentropy',  # For binary classification\n",
        "              metrics=['accuracy'])\n",
        "\n",
        "# Train the model\n",
        "history = model.fit(\n",
        "    train_data,\n",
        "    steps_per_epoch=train_data.samples // train_data.batch_size,\n",
        "    epochs=10,  # You can adjust the number of epochs as needed\n",
        "    validation_data=val_data,\n",
        "    validation_steps=val_data.samples // val_data.batch_size\n",
        ")\n"
      ],
      "metadata": {
        "id": "lCS-NVFFz832",
        "outputId": "bafe28df-da8a-4a04-ae78-86bdddee7a88",
        "colab": {
          "base_uri": "https://localhost:8080/"
        }
      },
      "execution_count": 28,
      "outputs": [
        {
          "output_type": "stream",
          "name": "stdout",
          "text": [
            "Epoch 1/10\n",
            "\u001b[1m10/10\u001b[0m \u001b[32m━━━━━━━━━━━━━━━━━━━━\u001b[0m\u001b[37m\u001b[0m \u001b[1m13s\u001b[0m 1s/step - accuracy: 0.5881 - loss: 0.6772 - val_accuracy: 0.5469 - val_loss: 0.6663\n",
            "Epoch 2/10\n",
            "\u001b[1m10/10\u001b[0m \u001b[32m━━━━━━━━━━━━━━━━━━━━\u001b[0m\u001b[37m\u001b[0m \u001b[1m9s\u001b[0m 1s/step - accuracy: 0.5938 - loss: 0.6572 - val_accuracy: 0.4737 - val_loss: 0.6795\n",
            "Epoch 3/10\n",
            "\u001b[1m10/10\u001b[0m \u001b[32m━━━━━━━━━━━━━━━━━━━━\u001b[0m\u001b[37m\u001b[0m \u001b[1m23s\u001b[0m 194ms/step - accuracy: 0.5358 - loss: 0.6739 - val_accuracy: 0.5938 - val_loss: 0.6628\n",
            "Epoch 4/10\n",
            "\u001b[1m10/10\u001b[0m \u001b[32m━━━━━━━━━━━━━━━━━━━━\u001b[0m\u001b[37m\u001b[0m \u001b[1m1s\u001b[0m 70ms/step - accuracy: 0.5938 - loss: 0.6669 - val_accuracy: 0.6316 - val_loss: 0.6701\n",
            "Epoch 5/10\n",
            "\u001b[1m10/10\u001b[0m \u001b[32m━━━━━━━━━━━━━━━━━━━━\u001b[0m\u001b[37m\u001b[0m \u001b[1m3s\u001b[0m 175ms/step - accuracy: 0.6084 - loss: 0.6672 - val_accuracy: 0.6250 - val_loss: 0.6654\n",
            "Epoch 6/10\n",
            "\u001b[1m10/10\u001b[0m \u001b[32m━━━━━━━━━━━━━━━━━━━━\u001b[0m\u001b[37m\u001b[0m \u001b[1m0s\u001b[0m 12ms/step - accuracy: 0.5625 - loss: 0.6795 - val_accuracy: 0.7368 - val_loss: 0.6403\n",
            "Epoch 7/10\n",
            "\u001b[1m10/10\u001b[0m \u001b[32m━━━━━━━━━━━━━━━━━━━━\u001b[0m\u001b[37m\u001b[0m \u001b[1m3s\u001b[0m 170ms/step - accuracy: 0.6517 - loss: 0.6689 - val_accuracy: 0.6406 - val_loss: 0.6568\n",
            "Epoch 8/10\n",
            "\u001b[1m10/10\u001b[0m \u001b[32m━━━━━━━━━━━━━━━━━━━━\u001b[0m\u001b[37m\u001b[0m \u001b[1m0s\u001b[0m 12ms/step - accuracy: 0.6250 - loss: 0.6668 - val_accuracy: 0.7368 - val_loss: 0.6484\n",
            "Epoch 9/10\n",
            "\u001b[1m10/10\u001b[0m \u001b[32m━━━━━━━━━━━━━━━━━━━━\u001b[0m\u001b[37m\u001b[0m \u001b[1m3s\u001b[0m 181ms/step - accuracy: 0.6507 - loss: 0.6622 - val_accuracy: 0.6406 - val_loss: 0.6501\n",
            "Epoch 10/10\n",
            "\u001b[1m10/10\u001b[0m \u001b[32m━━━━━━━━━━━━━━━━━━━━\u001b[0m\u001b[37m\u001b[0m \u001b[1m0s\u001b[0m 11ms/step - accuracy: 0.5312 - loss: 0.6559 - val_accuracy: 0.7895 - val_loss: 0.6501\n"
          ]
        }
      ]
    },
    {
      "cell_type": "code",
      "source": [
        "import matplotlib.pyplot as plt\n",
        "\n",
        "# Plot the training and validation accuracy\n",
        "plt.plot(history.history['accuracy'], label='Training Accuracy')\n",
        "plt.plot(history.history['val_accuracy'], label='Validation Accuracy')\n",
        "plt.title('Training vs Validation Accuracy')\n",
        "plt.xlabel('Epochs')\n",
        "plt.ylabel('Accuracy')\n",
        "plt.legend()\n",
        "plt.show()\n"
      ],
      "metadata": {
        "id": "15xrOUUk0_74",
        "outputId": "02f6b55b-058b-4e12-9d22-57f0e4e30146",
        "colab": {
          "base_uri": "https://localhost:8080/",
          "height": 472
        }
      },
      "execution_count": 29,
      "outputs": [
        {
          "output_type": "display_data",
          "data": {
            "text/plain": [
              "<Figure size 640x480 with 1 Axes>"
            ],
            "image/png": "[encoded data removed]"
          },
          "metadata": {}
        }
      ]
    },
    {
      "cell_type": "code",
      "source": [
        "# Evaluate the model on the validation data\n",
        "val_loss, val_acc = model.evaluate(val_data)\n",
        "print(f\"Validation Loss: {val_loss}\")\n",
        "print(f\"Validation Accuracy: {val_acc}\")\n"
      ],
      "metadata": {
        "id": "cFAaeSCx1OgH",
        "outputId": "78ee5c2b-6305-4f78-afc0-06bfe9b1c791",
        "colab": {
          "base_uri": "https://localhost:8080/"
        }
      },
      "execution_count": 30,
      "outputs": [
        {
          "output_type": "stream",
          "name": "stdout",
          "text": [
            "\u001b[1m3/3\u001b[0m \u001b[32m━━━━━━━━━━━━━━━━━━━━\u001b[0m\u001b[37m\u001b[0m \u001b[1m1s\u001b[0m 121ms/step - accuracy: 0.6949 - loss: 0.6516\n",
            "Validation Loss: 0.6497579216957092\n",
            "Validation Accuracy: 0.6867470145225525\n"
          ]
        }
      ]
    },
    {
      "cell_type": "code",
      "source": [
        "from tensorflow.keras.preprocessing import image\n",
        "import numpy as np\n",
        "\n",
        "# Load and preprocess an example image\n",
        "img = image.load_img('/path/to/image.jpg', target_size=(224, 224))\n",
        "img_array = image.img_to_array(img)  # Convert to array\n",
        "img_array = np.expand_dims(img_array, axis=0)  # Add batch dimension\n",
        "\n",
        "# Predict the class\n",
        "prediction = model.predict(img_array)\n",
        "print(prediction)\n"
      ],
      "metadata": {
        "id": "Z9YPECEn1VVy"
      },
      "execution_count": null,
      "outputs": []
    },
    {
      "cell_type": "code",
      "source": [
        "from tensorflow.keras.preprocessing import image\n",
        "from tensorflow.keras.preprocessing.image import ImageDataGenerator\n",
        "import numpy as np\n",
        "\n",
        "# Set the path to your test data\n",
        "test_dir = '/content/drive/MyDrive/Malaria/test'\n",
        "\n",
        "# Create ImageDataGenerator instance for the test data (no augmentation needed)\n",
        "test_datagen = ImageDataGenerator(rescale=1./255)\n",
        "\n",
        "# Set up the test generator\n",
        "test_generator = test_datagen.flow_from_directory(\n",
        "    test_dir,\n",
        "    target_size=(224, 224),  # Resize images to 224x224\n",
        "    batch_size=32,           # You can change batch size depending on memory\n",
        "    class_mode='binary',     # Use 'binary' since you have 2 classes (Infected/Uninfected)\n",
        "    shuffle=False            # Don't shuffle for evaluation (so predictions match filenames)\n",
        ")\n",
        "\n",
        "# Evaluate the model on the test data\n",
        "loss, accuracy = model.evaluate(test_generator)\n",
        "print(f\"Test accuracy: {accuracy * 100:.2f}%\")\n",
        "\n",
        "# If you want to predict individual images, you can loop through the test set\n",
        "# Example for predicting a batch of images\n",
        "predictions = model.predict(test_generator)\n",
        "\n",
        "# Display predictions for the first batch of images\n",
        "for i, prediction in enumerate(predictions):\n",
        "    print(f\"Image {i+1} prediction: {'Infected' if prediction[0] > 0.5 else 'Uninfected'} (Confidence: {prediction[0]:.2f})\")\n"
      ],
      "metadata": {
        "id": "56Vrusf04r2L",
        "outputId": "ea2ce109-b43b-4119-9893-e5ac8925a227",
        "colab": {
          "base_uri": "https://localhost:8080/"
        }
      },
      "execution_count": 31,
      "outputs": [
        {
          "output_type": "stream",
          "name": "stdout",
          "text": [
            "Found 134 images belonging to 2 classes.\n",
            "\u001b[1m5/5\u001b[0m \u001b[32m━━━━━━━━━━━━━━━━━━━━\u001b[0m\u001b[37m\u001b[0m \u001b[1m1s\u001b[0m 180ms/step - accuracy: 0.8251 - loss: 0.6529\n",
            "Test accuracy: 66.42%\n",
            "\u001b[1m5/5\u001b[0m \u001b[32m━━━━━━━━━━━━━━━━━━━━\u001b[0m\u001b[37m\u001b[0m \u001b[1m2s\u001b[0m 207ms/step\n",
            "Image 1 prediction: Uninfected (Confidence: 0.48)\n",
            "Image 2 prediction: Uninfected (Confidence: 0.49)\n",
            "Image 3 prediction: Uninfected (Confidence: 0.47)\n",
            "Image 4 prediction: Uninfected (Confidence: 0.44)\n",
            "Image 5 prediction: Uninfected (Confidence: 0.44)\n",
            "Image 6 prediction: Uninfected (Confidence: 0.46)\n",
            "Image 7 prediction: Uninfected (Confidence: 0.50)\n",
            "Image 8 prediction: Uninfected (Confidence: 0.46)\n",
            "Image 9 prediction: Uninfected (Confidence: 0.48)\n",
            "Image 10 prediction: Uninfected (Confidence: 0.48)\n",
            "Image 11 prediction: Uninfected (Confidence: 0.47)\n",
            "Image 12 prediction: Uninfected (Confidence: 0.45)\n",
            "Image 13 prediction: Uninfected (Confidence: 0.49)\n",
            "Image 14 prediction: Uninfected (Confidence: 0.48)\n",
            "Image 15 prediction: Uninfected (Confidence: 0.47)\n",
            "Image 16 prediction: Uninfected (Confidence: 0.46)\n",
            "Image 17 prediction: Uninfected (Confidence: 0.50)\n",
            "Image 18 prediction: Uninfected (Confidence: 0.47)\n",
            "Image 19 prediction: Uninfected (Confidence: 0.49)\n",
            "Image 20 prediction: Uninfected (Confidence: 0.49)\n",
            "Image 21 prediction: Uninfected (Confidence: 0.45)\n",
            "Image 22 prediction: Uninfected (Confidence: 0.47)\n",
            "Image 23 prediction: Uninfected (Confidence: 0.49)\n",
            "Image 24 prediction: Uninfected (Confidence: 0.47)\n",
            "Image 25 prediction: Uninfected (Confidence: 0.46)\n",
            "Image 26 prediction: Uninfected (Confidence: 0.46)\n",
            "Image 27 prediction: Uninfected (Confidence: 0.48)\n",
            "Image 28 prediction: Uninfected (Confidence: 0.48)\n",
            "Image 29 prediction: Uninfected (Confidence: 0.45)\n",
            "Image 30 prediction: Uninfected (Confidence: 0.46)\n",
            "Image 31 prediction: Uninfected (Confidence: 0.49)\n",
            "Image 32 prediction: Uninfected (Confidence: 0.43)\n",
            "Image 33 prediction: Uninfected (Confidence: 0.45)\n",
            "Image 34 prediction: Uninfected (Confidence: 0.48)\n",
            "Image 35 prediction: Uninfected (Confidence: 0.46)\n",
            "Image 36 prediction: Uninfected (Confidence: 0.47)\n",
            "Image 37 prediction: Uninfected (Confidence: 0.50)\n",
            "Image 38 prediction: Uninfected (Confidence: 0.48)\n",
            "Image 39 prediction: Uninfected (Confidence: 0.49)\n",
            "Image 40 prediction: Uninfected (Confidence: 0.46)\n",
            "Image 41 prediction: Uninfected (Confidence: 0.48)\n",
            "Image 42 prediction: Uninfected (Confidence: 0.45)\n",
            "Image 43 prediction: Uninfected (Confidence: 0.45)\n",
            "Image 44 prediction: Uninfected (Confidence: 0.46)\n",
            "Image 45 prediction: Uninfected (Confidence: 0.45)\n",
            "Image 46 prediction: Uninfected (Confidence: 0.45)\n",
            "Image 47 prediction: Uninfected (Confidence: 0.50)\n",
            "Image 48 prediction: Uninfected (Confidence: 0.47)\n",
            "Image 49 prediction: Uninfected (Confidence: 0.46)\n",
            "Image 50 prediction: Uninfected (Confidence: 0.42)\n",
            "Image 51 prediction: Uninfected (Confidence: 0.45)\n",
            "Image 52 prediction: Uninfected (Confidence: 0.47)\n",
            "Image 53 prediction: Uninfected (Confidence: 0.46)\n",
            "Image 54 prediction: Uninfected (Confidence: 0.46)\n",
            "Image 55 prediction: Uninfected (Confidence: 0.50)\n",
            "Image 56 prediction: Uninfected (Confidence: 0.46)\n",
            "Image 57 prediction: Uninfected (Confidence: 0.48)\n",
            "Image 58 prediction: Uninfected (Confidence: 0.45)\n",
            "Image 59 prediction: Uninfected (Confidence: 0.45)\n",
            "Image 60 prediction: Uninfected (Confidence: 0.45)\n",
            "Image 61 prediction: Uninfected (Confidence: 0.46)\n",
            "Image 62 prediction: Uninfected (Confidence: 0.46)\n",
            "Image 63 prediction: Uninfected (Confidence: 0.48)\n",
            "Image 64 prediction: Uninfected (Confidence: 0.48)\n",
            "Image 65 prediction: Uninfected (Confidence: 0.44)\n",
            "Image 66 prediction: Uninfected (Confidence: 0.50)\n",
            "Image 67 prediction: Uninfected (Confidence: 0.49)\n",
            "Image 68 prediction: Uninfected (Confidence: 0.43)\n",
            "Image 69 prediction: Uninfected (Confidence: 0.47)\n",
            "Image 70 prediction: Uninfected (Confidence: 0.46)\n",
            "Image 71 prediction: Uninfected (Confidence: 0.48)\n",
            "Image 72 prediction: Uninfected (Confidence: 0.45)\n",
            "Image 73 prediction: Uninfected (Confidence: 0.49)\n",
            "Image 74 prediction: Uninfected (Confidence: 0.49)\n",
            "Image 75 prediction: Uninfected (Confidence: 0.48)\n",
            "Image 76 prediction: Uninfected (Confidence: 0.47)\n",
            "Image 77 prediction: Infected (Confidence: 0.50)\n",
            "Image 78 prediction: Uninfected (Confidence: 0.47)\n",
            "Image 79 prediction: Uninfected (Confidence: 0.47)\n",
            "Image 80 prediction: Uninfected (Confidence: 0.49)\n",
            "Image 81 prediction: Infected (Confidence: 0.50)\n",
            "Image 82 prediction: Uninfected (Confidence: 0.47)\n",
            "Image 83 prediction: Uninfected (Confidence: 0.49)\n",
            "Image 84 prediction: Uninfected (Confidence: 0.49)\n",
            "Image 85 prediction: Uninfected (Confidence: 0.49)\n",
            "Image 86 prediction: Uninfected (Confidence: 0.45)\n",
            "Image 87 prediction: Uninfected (Confidence: 0.48)\n",
            "Image 88 prediction: Uninfected (Confidence: 0.43)\n",
            "Image 89 prediction: Uninfected (Confidence: 0.48)\n",
            "Image 90 prediction: Uninfected (Confidence: 0.48)\n",
            "Image 91 prediction: Uninfected (Confidence: 0.45)\n",
            "Image 92 prediction: Uninfected (Confidence: 0.48)\n",
            "Image 93 prediction: Uninfected (Confidence: 0.48)\n",
            "Image 94 prediction: Uninfected (Confidence: 0.47)\n",
            "Image 95 prediction: Uninfected (Confidence: 0.46)\n",
            "Image 96 prediction: Uninfected (Confidence: 0.47)\n",
            "Image 97 prediction: Uninfected (Confidence: 0.49)\n",
            "Image 98 prediction: Uninfected (Confidence: 0.49)\n",
            "Image 99 prediction: Uninfected (Confidence: 0.48)\n",
            "Image 100 prediction: Uninfected (Confidence: 0.49)\n",
            "Image 101 prediction: Uninfected (Confidence: 0.47)\n",
            "Image 102 prediction: Uninfected (Confidence: 0.49)\n",
            "Image 103 prediction: Uninfected (Confidence: 0.49)\n",
            "Image 104 prediction: Uninfected (Confidence: 0.48)\n",
            "Image 105 prediction: Uninfected (Confidence: 0.48)\n",
            "Image 106 prediction: Uninfected (Confidence: 0.48)\n",
            "Image 107 prediction: Uninfected (Confidence: 0.49)\n",
            "Image 108 prediction: Uninfected (Confidence: 0.47)\n",
            "Image 109 prediction: Uninfected (Confidence: 0.49)\n",
            "Image 110 prediction: Uninfected (Confidence: 0.47)\n",
            "Image 111 prediction: Uninfected (Confidence: 0.47)\n",
            "Image 112 prediction: Uninfected (Confidence: 0.48)\n",
            "Image 113 prediction: Uninfected (Confidence: 0.47)\n",
            "Image 114 prediction: Uninfected (Confidence: 0.47)\n",
            "Image 115 prediction: Uninfected (Confidence: 0.46)\n",
            "Image 116 prediction: Uninfected (Confidence: 0.49)\n",
            "Image 117 prediction: Uninfected (Confidence: 0.47)\n",
            "Image 118 prediction: Uninfected (Confidence: 0.47)\n",
            "Image 119 prediction: Uninfected (Confidence: 0.49)\n",
            "Image 120 prediction: Uninfected (Confidence: 0.47)\n",
            "Image 121 prediction: Uninfected (Confidence: 0.47)\n",
            "Image 122 prediction: Uninfected (Confidence: 0.47)\n",
            "Image 123 prediction: Uninfected (Confidence: 0.46)\n",
            "Image 124 prediction: Uninfected (Confidence: 0.46)\n",
            "Image 125 prediction: Uninfected (Confidence: 0.48)\n",
            "Image 126 prediction: Uninfected (Confidence: 0.46)\n",
            "Image 127 prediction: Uninfected (Confidence: 0.48)\n",
            "Image 128 prediction: Uninfected (Confidence: 0.48)\n",
            "Image 129 prediction: Uninfected (Confidence: 0.49)\n",
            "Image 130 prediction: Uninfected (Confidence: 0.46)\n",
            "Image 131 prediction: Uninfected (Confidence: 0.47)\n",
            "Image 132 prediction: Uninfected (Confidence: 0.46)\n",
            "Image 133 prediction: Uninfected (Confidence: 0.47)\n",
            "Image 134 prediction: Uninfected (Confidence: 0.48)\n"
          ]
        }
      ]
    },
    {
      "cell_type": "code",
      "source": [],
      "metadata": {
        "id": "cQOnXDYD4vy5"
      },
      "execution_count": null,
      "outputs": []
    }
  ]
}