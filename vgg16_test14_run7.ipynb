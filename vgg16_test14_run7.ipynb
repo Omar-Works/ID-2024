{
  "nbformat": 4,
  "nbformat_minor": 0,
  "metadata": {
    "colab": {
      "provenance": [],
      "gpuType": "T4",
      "authorship_tag": "ABX9TyNS7QetPbsJLL4Ke5GpJBei",
      "include_colab_link": true
    },
    "kernelspec": {
      "name": "python3",
      "display_name": "Python 3"
    },
    "language_info": {
      "name": "python"
    },
    "accelerator": "GPU"
  },
  "cells": [
    {
      "cell_type": "markdown",
      "metadata": {
        "id": "view-in-github",
        "colab_type": "text"
      },
      "source": [
        "<a href=\"https://colab.research.google.com/github/Omar-Works/ID-2024/blob/main/vgg16_test14_run7.ipynb\" target=\"_parent\"><img src=\"https://colab.research.google.com/assets/colab-badge.svg\" alt=\"Open In Colab\"/></a>"
      ]
    },
    {
      "cell_type": "markdown",
      "source": [
        "Connecting to **Malariav2** dataset"
      ],
      "metadata": {
        "id": "qPtALkqNh7HZ"
      }
    },
    {
      "cell_type": "code",
      "execution_count": 34,
      "metadata": {
        "colab": {
          "base_uri": "https://localhost:8080/"
        },
        "id": "dvN3yvRS4Oj5",
        "outputId": "17d88aa6-65e5-4db5-e638-6fa893d96a9a"
      },
      "outputs": [
        {
          "output_type": "stream",
          "name": "stdout",
          "text": [
            "Drive already mounted at /content/drive; to attempt to forcibly remount, call drive.mount(\"/content/drive\", force_remount=True).\n"
          ]
        }
      ],
      "source": [
        "from google.colab import drive\n",
        "drive.mount('/content/drive')\n"
      ]
    },
    {
      "cell_type": "markdown",
      "source": [
        "Evaluates model performance"
      ],
      "metadata": {
        "id": "ykkGlUdJiQES"
      }
    },
    {
      "cell_type": "code",
      "source": [
        "from sklearn.metrics import accuracy_score, precision_score, recall_score, f1_score, confusion_matrix, classification_report, matthews_corrcoef\n",
        "\n",
        "def find_result():\n",
        "    predictions = model.predict(test_generator)\n",
        "    predictions = (predictions > 0.5).astype(int).flatten()  # Convert to binary labels\n",
        "\n",
        "    # True labels\n",
        "    y_true = test_generator.classes\n",
        "\n",
        "    # Calculate metrics\n",
        "    accuracy = accuracy_score(y_true, predictions)\n",
        "    classification_error = 1 - accuracy\n",
        "    precision = precision_score(y_true, predictions)\n",
        "    recall = recall_score(y_true, predictions)\n",
        "    f1 = f1_score(y_true, predictions)\n",
        "    specificity = recall_score(y_true, predictions, pos_label=0)\n",
        "    fall_out = 1 - specificity\n",
        "    mcc = matthews_corrcoef(y_true, predictions)\n",
        "\n",
        "    # Print metrics\n",
        "    print(\"Accuracy:\", accuracy)\n",
        "    print(\"Classification Error:\", classification_error)\n",
        "    print(\"Precision:\", precision)\n",
        "    print(\"Recall (Sensitivity):\", recall)\n",
        "    print(\"F1 Score:\", f1)\n",
        "    print(\"Specificity:\", specificity)\n",
        "    print(\"Fall-Out:\", fall_out)\n",
        "    print(\"Matthews Correlation Coefficient:\", mcc)\n",
        "    print(\"Confusion Matrix:\\n\", confusion_matrix(y_true, predictions))\n",
        "    print(\"Classification Report:\\n\", classification_report(y_true, predictions))\n"
      ],
      "metadata": {
        "id": "0sE9wxu1YYIO"
      },
      "execution_count": 35,
      "outputs": []
    },
    {
      "cell_type": "code",
      "source": [
        "# Import necessary libraries\n",
        "import numpy as np\n",
        "import tensorflow as tf\n",
        "from tensorflow.keras.models import Sequential\n",
        "from tensorflow.keras.layers import Dense, GlobalAveragePooling2D\n",
        "from tensorflow.keras.applications import VGG16\n",
        "from tensorflow.keras.preprocessing.image import ImageDataGenerator\n",
        "from sklearn.metrics import precision_score, recall_score, f1_score, accuracy_score\n",
        "\n",
        "# Load the pre-trained VGG16 model without the top layers\n",
        "base_model = VGG16(weights='imagenet', include_top=False, input_shape=(224, 224, 3))\n",
        "# Unfreeze the base model\n",
        "base_model.trainable = True\n",
        "\n",
        "# Optionally freeze some of the earlier layers to retain general features\n",
        "for layer in base_model.layers[:10]:  # You can adjust this number based on experimentation\n",
        "    layer.trainable = False\n",
        "\n",
        "# Create the model\n",
        "model = Sequential([\n",
        "    base_model,\n",
        "    GlobalAveragePooling2D(),\n",
        "    Dense(512, activation='relu'),\n",
        "    Dense(1, activation='sigmoid')  # For binary classification\n",
        "])\n"
      ],
      "metadata": {
        "id": "o74JSi_W5H0p"
      },
      "execution_count": 36,
      "outputs": []
    },
    {
      "cell_type": "code",
      "source": [
        "# Data Preprocessing\n",
        "train_datagen = ImageDataGenerator(\n",
        "    rescale=1./255, rotation_range=20, width_shift_range=0.2,\n",
        "    height_shift_range=0.2, shear_range=0.2, zoom_range=0.2,\n",
        "    horizontal_flip=True, fill_mode='nearest', validation_split=0.2)  # Added validation split\n",
        "\n",
        "# Use separate subsets for training and validation\n",
        "train_generator = train_datagen.flow_from_directory(\n",
        "    '/content/drive/MyDrive/Malariav2/train',\n",
        "    target_size=(224, 224),\n",
        "    batch_size=32,\n",
        "    class_mode='binary',\n",
        "    subset='training'  # Specify training subset\n",
        ")\n",
        "\n",
        "validation_generator = train_datagen.flow_from_directory(\n",
        "    '/content/drive/MyDrive/Malariav2/train',\n",
        "    target_size=(224, 224),\n",
        "    batch_size=32,\n",
        "    class_mode='binary',\n",
        "    subset='validation'  # Specify validation subset\n",
        ")\n",
        "\n",
        "# Evaluate the model on the test dataset\n",
        "test_datagen = ImageDataGenerator(rescale=1./255)\n",
        "test_generator = test_datagen.flow_from_directory(\n",
        "    '/content/drive/MyDrive/Malariav2/test',\n",
        "    target_size=(224, 224),\n",
        "    batch_size=32,\n",
        "    class_mode='binary',\n",
        "    shuffle=False  # Ensure order for metric calculations\n",
        ")"
      ],
      "metadata": {
        "colab": {
          "base_uri": "https://localhost:8080/"
        },
        "id": "KEOgQOqyiqp6",
        "outputId": "898ffde6-3694-4e29-fbad-9124e2742502"
      },
      "execution_count": 37,
      "outputs": [
        {
          "output_type": "stream",
          "name": "stdout",
          "text": [
            "Found 333 images belonging to 2 classes.\n",
            "Found 83 images belonging to 2 classes.\n",
            "Found 134 images belonging to 2 classes.\n"
          ]
        }
      ]
    },
    {
      "cell_type": "code",
      "source": [
        "model.compile(optimizer=tf.keras.optimizers.Adam(learning_rate=1e-5),  # Low learning rate\n",
        "              loss='binary_crossentropy',\n",
        "              metrics=['accuracy'])\n",
        "\n",
        "# Define the early stopping callback\n",
        "early_stopping = tf.keras.callbacks.EarlyStopping(\n",
        "    monitor='val_loss', patience=3, restore_best_weights=True\n",
        ")\n",
        "\n",
        "history = model.fit(train_generator, epochs=10, validation_data=validation_generator, callbacks=[early_stopping])\n"
      ],
      "metadata": {
        "colab": {
          "base_uri": "https://localhost:8080/"
        },
        "id": "_bOAk7GAloGB",
        "outputId": "881d414d-a6ad-43c1-976b-86e01d681259"
      },
      "execution_count": 38,
      "outputs": [
        {
          "output_type": "stream",
          "name": "stdout",
          "text": [
            "Epoch 1/10\n"
          ]
        },
        {
          "output_type": "stream",
          "name": "stderr",
          "text": [
            "/usr/local/lib/python3.10/dist-packages/keras/src/trainers/data_adapters/py_dataset_adapter.py:121: UserWarning: Your `PyDataset` class should call `super().__init__(**kwargs)` in its constructor. `**kwargs` can include `workers`, `use_multiprocessing`, `max_queue_size`. Do not pass these arguments to `fit()`, as they will be ignored.\n",
            "  self._warn_if_super_not_called()\n"
          ]
        },
        {
          "output_type": "stream",
          "name": "stdout",
          "text": [
            "\u001b[1m11/11\u001b[0m \u001b[32m━━━━━━━━━━━━━━━━━━━━\u001b[0m\u001b[37m\u001b[0m \u001b[1m16s\u001b[0m 768ms/step - accuracy: 0.5334 - loss: 0.6888 - val_accuracy: 0.5904 - val_loss: 0.6566\n",
            "Epoch 2/10\n",
            "\u001b[1m11/11\u001b[0m \u001b[32m━━━━━━━━━━━━━━━━━━━━\u001b[0m\u001b[37m\u001b[0m \u001b[1m15s\u001b[0m 486ms/step - accuracy: 0.7262 - loss: 0.6372 - val_accuracy: 0.6747 - val_loss: 0.5899\n",
            "Epoch 3/10\n",
            "\u001b[1m11/11\u001b[0m \u001b[32m━━━━━━━━━━━━━━━━━━━━\u001b[0m\u001b[37m\u001b[0m \u001b[1m9s\u001b[0m 404ms/step - accuracy: 0.8621 - loss: 0.5534 - val_accuracy: 0.8795 - val_loss: 0.4578\n",
            "Epoch 4/10\n",
            "\u001b[1m11/11\u001b[0m \u001b[32m━━━━━━━━━━━━━━━━━━━━\u001b[0m\u001b[37m\u001b[0m \u001b[1m11s\u001b[0m 461ms/step - accuracy: 0.8354 - loss: 0.4601 - val_accuracy: 0.8554 - val_loss: 0.3608\n",
            "Epoch 5/10\n",
            "\u001b[1m11/11\u001b[0m \u001b[32m━━━━━━━━━━━━━━━━━━━━\u001b[0m\u001b[37m\u001b[0m \u001b[1m8s\u001b[0m 512ms/step - accuracy: 0.9098 - loss: 0.3063 - val_accuracy: 0.9398 - val_loss: 0.2073\n",
            "Epoch 6/10\n",
            "\u001b[1m11/11\u001b[0m \u001b[32m━━━━━━━━━━━━━━━━━━━━\u001b[0m\u001b[37m\u001b[0m \u001b[1m10s\u001b[0m 433ms/step - accuracy: 0.9491 - loss: 0.1843 - val_accuracy: 0.9518 - val_loss: 0.1538\n",
            "Epoch 7/10\n",
            "\u001b[1m11/11\u001b[0m \u001b[32m━━━━━━━━━━━━━━━━━━━━\u001b[0m\u001b[37m\u001b[0m \u001b[1m9s\u001b[0m 511ms/step - accuracy: 0.9540 - loss: 0.1538 - val_accuracy: 0.9759 - val_loss: 0.0808\n",
            "Epoch 8/10\n",
            "\u001b[1m11/11\u001b[0m \u001b[32m━━━━━━━━━━━━━━━━━━━━\u001b[0m\u001b[37m\u001b[0m \u001b[1m9s\u001b[0m 579ms/step - accuracy: 0.9393 - loss: 0.1544 - val_accuracy: 0.9759 - val_loss: 0.1301\n",
            "Epoch 9/10\n",
            "\u001b[1m11/11\u001b[0m \u001b[32m━━━━━━━━━━━━━━━━━━━━\u001b[0m\u001b[37m\u001b[0m \u001b[1m8s\u001b[0m 431ms/step - accuracy: 0.9435 - loss: 0.1276 - val_accuracy: 0.9759 - val_loss: 0.0637\n",
            "Epoch 10/10\n",
            "\u001b[1m11/11\u001b[0m \u001b[32m━━━━━━━━━━━━━━━━━━━━\u001b[0m\u001b[37m\u001b[0m \u001b[1m11s\u001b[0m 418ms/step - accuracy: 0.9676 - loss: 0.0917 - val_accuracy: 0.9759 - val_loss: 0.0947\n"
          ]
        }
      ]
    },
    {
      "cell_type": "code",
      "source": [
        "find_result()"
      ],
      "metadata": {
        "colab": {
          "base_uri": "https://localhost:8080/"
        },
        "id": "PfLNaM_aaID9",
        "outputId": "f46da489-48d9-4876-af2c-2b1304246a65"
      },
      "execution_count": 39,
      "outputs": [
        {
          "output_type": "stream",
          "name": "stdout",
          "text": [
            "\u001b[1m5/5\u001b[0m \u001b[32m━━━━━━━━━━━━━━━━━━━━\u001b[0m\u001b[37m\u001b[0m \u001b[1m1s\u001b[0m 185ms/step\n",
            "Accuracy: 0.9402985074626866\n",
            "Classification Error: 0.05970149253731338\n",
            "Precision: 0.8571428571428571\n",
            "Recall (Sensitivity): 0.9767441860465116\n",
            "F1 Score: 0.9130434782608695\n",
            "Specificity: 0.9230769230769231\n",
            "Fall-Out: 0.07692307692307687\n",
            "Matthews Correlation Coefficient: 0.8721749283807382\n",
            "Confusion Matrix:\n",
            " [[84  7]\n",
            " [ 1 42]]\n",
            "Classification Report:\n",
            "               precision    recall  f1-score   support\n",
            "\n",
            "           0       0.99      0.92      0.95        91\n",
            "           1       0.86      0.98      0.91        43\n",
            "\n",
            "    accuracy                           0.94       134\n",
            "   macro avg       0.92      0.95      0.93       134\n",
            "weighted avg       0.95      0.94      0.94       134\n",
            "\n"
          ]
        }
      ]
    },
    {
      "cell_type": "code",
      "source": [
        "# don't run this again\n",
        "# Save the entire model\n",
        "model.save('/content/drive/MyDrive/saved_models/vgg16-final_model.keras')  # Save to your Google Drive"
      ],
      "metadata": {
        "id": "SYvci6ExWaEF"
      },
      "execution_count": 42,
      "outputs": []
    },
    {
      "cell_type": "code",
      "source": [
        "from sklearn.metrics import confusion_matrix\n",
        "from sklearn.metrics import classification_report"
      ],
      "metadata": {
        "id": "tDmYzj2EeM5C"
      },
      "execution_count": 41,
      "outputs": []
    },
    {
      "cell_type": "code",
      "source": [],
      "metadata": {
        "id": "zKz9av9OnvDg"
      },
      "execution_count": 41,
      "outputs": []
    }
  ]
}